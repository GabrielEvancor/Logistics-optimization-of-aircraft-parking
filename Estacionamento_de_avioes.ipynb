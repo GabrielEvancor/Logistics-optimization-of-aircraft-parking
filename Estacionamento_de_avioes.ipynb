{
  "cells": [
    {
      "cell_type": "markdown",
      "metadata": {
        "id": "vrinz6f2apvn"
      },
      "source": [
        "# `Modelagem de problema de estacionamento de avioes num aeroporto utilizando OR-Tools`\n"
      ]
    },
    {
      "cell_type": "markdown",
      "metadata": {
        "id": "s_l870xHcXWw"
      },
      "source": [
        "Nesse notebook iremos realizar a modelagem e utilizaçao da ferramenta OR-tools para solucionar um problema de logistica de estacionamento de avioes num aeroporto desconsiderando inicialmente o tempo envolvido no problema."
      ]
    },
    {
      "cell_type": "code",
      "execution_count": 1,
      "metadata": {
        "colab": {
          "base_uri": "https://localhost:8080/"
        },
        "id": "qBJ4EXDSXc1O",
        "outputId": "6cf5631e-3384-4589-ed65-282e81280c00"
      },
      "outputs": [
        {
          "name": "stderr",
          "output_type": "stream",
          "text": [
            "ERROR: Could not find a version that satisfies the requirement ortools==9.7.2996 (from versions: 9.8.3296, 9.9.3963, 9.10.4067)\n",
            "ERROR: No matching distribution found for ortools==9.7.2996\n",
            "\n",
            "[notice] A new release of pip is available: 24.0 -> 24.1.2\n",
            "[notice] To update, run: python.exe -m pip install --upgrade pip\n"
          ]
        }
      ],
      "source": [
        "!pip install ortools==9.7.2996 pandas==2.1.0"
      ]
    },
    {
      "cell_type": "code",
      "execution_count": 2,
      "metadata": {
        "id": "lBbep1v3ZZP_"
      },
      "outputs": [
        {
          "ename": "ModuleNotFoundError",
          "evalue": "No module named 'ortools'",
          "output_type": "error",
          "traceback": [
            "\u001b[1;31m---------------------------------------------------------------------------\u001b[0m",
            "\u001b[1;31mModuleNotFoundError\u001b[0m                       Traceback (most recent call last)",
            "Cell \u001b[1;32mIn[2], line 2\u001b[0m\n\u001b[0;32m      1\u001b[0m \u001b[38;5;66;03m#importe do modelo responsavel pela adiçao de restriçoes no nosso problema\u001b[39;00m\n\u001b[1;32m----> 2\u001b[0m \u001b[38;5;28;01mfrom\u001b[39;00m \u001b[38;5;21;01mortools\u001b[39;00m\u001b[38;5;21;01m.\u001b[39;00m\u001b[38;5;21;01msat\u001b[39;00m\u001b[38;5;21;01m.\u001b[39;00m\u001b[38;5;21;01mpython\u001b[39;00m \u001b[38;5;28;01mimport\u001b[39;00m cp_model\n",
            "\u001b[1;31mModuleNotFoundError\u001b[0m: No module named 'ortools'"
          ]
        }
      ],
      "source": [
        "#importe do modelo responsavel pela adiçao de restriçoes no nosso problema\n",
        "from ortools.sat.python import cp_model"
      ]
    },
    {
      "cell_type": "markdown",
      "metadata": {
        "id": "PLLW9wpRdKE4"
      },
      "source": [
        "## `Definiçao e construçao dos objetos estacionamento e aviao`"
      ]
    },
    {
      "cell_type": "code",
      "execution_count": null,
      "metadata": {
        "id": "RN860zjcZPyA"
      },
      "outputs": [],
      "source": [
        "class Estacionamento:\n",
        "  def __init__(self, k, total_de_avioes, grande, modelo):\n",
        "    self.grande = grande\n",
        "    self.variavel = modelo.NewIntVar(0, total_de_avioes, f'estacionamento_{k}')\n",
        "    self.k = k\n",
        "    self.vizinhos = []\n",
        "    self.recebe_aviao_grande = modelo.NewBoolVar(f'recebe_aviao_grande_{k}')\n",
        "    if not self.grande:\n",
        "      modelo.Add(self.recebe_aviao_grande == 0)"
      ]
    },
    {
      "cell_type": "code",
      "execution_count": null,
      "metadata": {
        "id": "QbhQ6WKpZSw_"
      },
      "outputs": [],
      "source": [
        "class Aviao:\n",
        "  def __init__(self, k, grande):\n",
        "    self.k = k\n",
        "    self.grande = grande"
      ]
    },
    {
      "cell_type": "markdown",
      "metadata": {
        "id": "vkjEBOg9dWtn"
      },
      "source": [
        "## `Funçao responsavel por gerar o resultado e o status do modelo criado`"
      ]
    },
    {
      "cell_type": "code",
      "execution_count": null,
      "metadata": {
        "id": "pr9foLVHZk8H"
      },
      "outputs": [],
      "source": [
        "def resolve(solucionador, modelo, estacionamentos, avioes):\n",
        "  status = solucionador.Solve(modelo)\n",
        "  print(solucionador.StatusName(status))\n",
        "  if status == cp_model.INFEASIBLE:\n",
        "    print(\"Sem solucao\")\n",
        "    return\n",
        "  for estacionamento in estacionamentos:\n",
        "    variavel = estacionamento.variavel\n",
        "    valor = solucionador.Value(variavel)\n",
        "    if valor == 0:\n",
        "      print(f\"{variavel} sem aviao\")\n",
        "    else:\n",
        "      aviao = avioes[valor - 1]\n",
        "      print(f\"{variavel} tem aviao {valor} grande={aviao.grande}\")"
      ]
    },
    {
      "cell_type": "markdown",
      "metadata": {
        "id": "VXqVBISqdjMQ"
      },
      "source": [
        "## `Funçao que nao permite que o modelo selecione um mesmo aviao para ocupar dois ou mais estacionamentos`"
      ]
    },
    {
      "cell_type": "code",
      "execution_count": null,
      "metadata": {
        "id": "0pvLo-_PZnRg"
      },
      "outputs": [],
      "source": [
        "def avioes_distintos(estacionamentos, modelo):\n",
        "  variaveis = [estacionamento.variavel for estacionamento in estacionamentos]\n",
        "  modelo.AddAllDifferent(variaveis)"
      ]
    },
    {
      "cell_type": "markdown",
      "metadata": {
        "id": "A9_PbQCKd12G"
      },
      "source": [
        "## `Funçao que incrementa a restriçao (constrain) de que todo aviao deve pousar`"
      ]
    },
    {
      "cell_type": "code",
      "execution_count": null,
      "metadata": {
        "id": "WezjzfZaZq-P"
      },
      "outputs": [],
      "source": [
        "def todo_aviao_tem_que_estacionar(total_de_avioes, estacionamentos, modelo):\n",
        "  variaveis = {}\n",
        "  for i in range(1, total_de_avioes + 1):\n",
        "    for j, estacionamento in enumerate(estacionamentos):\n",
        "      aviao_i_em_j = modelo.NewBoolVar(f'aviao_{i}_em{j}')\n",
        "      modelo.Add(estacionamento.variavel == i).OnlyEnforceIf(aviao_i_em_j)\n",
        "      modelo.Add(estacionamento.variavel != i).OnlyEnforceIf(aviao_i_em_j.Not())\n",
        "      variaveis[(i, j)] = aviao_i_em_j\n",
        "\n",
        "  for i in range(1, total_de_avioes + 1):\n",
        "    modelo.AddExactlyOne([variaveis[(i,j)] for j in range(len(estacionamentos))])"
      ]
    },
    {
      "cell_type": "markdown",
      "metadata": {
        "id": "iGV5AvsxePu4"
      },
      "source": [
        "## `Funçao que limita avioes grandes de estacionarem apenas em estacionamentos grandes`"
      ]
    },
    {
      "cell_type": "code",
      "execution_count": null,
      "metadata": {
        "id": "g8r4NwkFqjNy"
      },
      "outputs": [],
      "source": [
        "# Agora queremos definir que um aviao grande so pode ser hospedado em um aviao grande\n",
        "\n",
        "def limita_aviao_grande_para_estacionamento_grande(modelo, estacionamentos, avioes):\n",
        "  avioes_grandes = [aviao for aviao in avioes if aviao.grande]\n",
        "  for estacionamento in estacionamentos:\n",
        "    # if estacionamento.grande:\n",
        "    for aviao in avioes_grandes:\n",
        "      modelo.Add(estacionamento.variavel != aviao.k).OnlyEnforceIf(estacionamento.recebe_aviao_grande.Not())\n",
        "    # else:\n",
        "      # nao aceita!!\n",
        "      # REMOVER AVIOES GRANDES!\n",
        "      # remover_do_estacionamento(modelo, estacionamento.variavel, avioes_grandes)"
      ]
    },
    {
      "cell_type": "markdown",
      "metadata": {
        "id": "imz7UznueYu4"
      },
      "source": [
        "## `Funçao que adiciona a restriçao de que se um estacionamento for grande e tiver um aviao grande em algum vizinho ele nao podera receber um aviao grande`"
      ]
    },
    {
      "cell_type": "code",
      "execution_count": null,
      "metadata": {
        "id": "dnXcenLsRg9v"
      },
      "outputs": [],
      "source": [
        "def limita_vizinhos(modelo, estacionamentos, avioes):\n",
        "  for estacionamento in estacionamentos:\n",
        "    if not estacionamento.grande:\n",
        "      continue\n",
        "    for vizinho in estacionamento.vizinhos:\n",
        "      if vizinho.grande:\n",
        "        # se o vizinho tem um aviao grande => eu nao posso receber aviao grande\n",
        "        modelo.Add(estacionamento.recebe_aviao_grande == 0).OnlyEnforceIf(vizinho.recebe_aviao_grande)\n"
      ]
    },
    {
      "cell_type": "markdown",
      "metadata": {
        "id": "HEWq7Qa3e1go"
      },
      "source": [
        "## `Segue abaixo exemplos testando o modelo para demonstrar sua validade`"
      ]
    },
    {
      "cell_type": "code",
      "execution_count": null,
      "metadata": {
        "colab": {
          "base_uri": "https://localhost:8080/"
        },
        "id": "oA_4JbPAaHkX",
        "outputId": "af07288c-804f-4459-a554-e47eb7dc7825"
      },
      "outputs": [
        {
          "name": "stdout",
          "output_type": "stream",
          "text": [
            "INFEASIBLE\n",
            "Sem solucao\n"
          ]
        }
      ],
      "source": [
        "#Exemplo 1:\n",
        "\n",
        "avioes = [Aviao(1, True),\n",
        "          Aviao(2, False),\n",
        "          Aviao(3, True)]\n",
        "modelo = cp_model.CpModel()\n",
        "total_de_avioes = len(avioes)\n",
        "\n",
        "estacionamentos = [Estacionamento(1, total_de_avioes, False, modelo),\n",
        "                   Estacionamento(2, total_de_avioes, False, modelo),\n",
        "                   Estacionamento(3, total_de_avioes, True, modelo),\n",
        "                   Estacionamento(4, total_de_avioes, True, modelo)]\n",
        "estacionamentos[2].vizinhos = [estacionamentos[3]]\n",
        "\n",
        "avioes_distintos(estacionamentos, modelo)\n",
        "todo_aviao_tem_que_estacionar(total_de_avioes, estacionamentos, modelo)\n",
        "limita_vizinhos(modelo, estacionamentos, avioes)\n",
        "limita_aviao_grande_para_estacionamento_grande(modelo, estacionamentos, avioes)\n",
        "\n",
        "solucionador = cp_model.CpSolver()\n",
        "resolve(solucionador, modelo, estacionamentos, avioes)"
      ]
    },
    {
      "cell_type": "code",
      "execution_count": null,
      "metadata": {
        "colab": {
          "base_uri": "https://localhost:8080/"
        },
        "id": "TsRWwl8caR1X",
        "outputId": "0b63164d-ff40-4f94-b623-a110e4579a78"
      },
      "outputs": [
        {
          "name": "stdout",
          "output_type": "stream",
          "text": [
            "OPTIMAL\n",
            "estacionamento_1 tem aviao 2 grande=False\n",
            "estacionamento_2 sem aviao\n",
            "estacionamento_3 tem aviao 3 grande=True\n",
            "estacionamento_4 tem aviao 1 grande=True\n"
          ]
        }
      ],
      "source": [
        "#Exemplo 2\n",
        "avioes = [Aviao(1, True),\n",
        "          Aviao(2, False),\n",
        "          Aviao(3, True)]\n",
        "modelo = cp_model.CpModel()\n",
        "total_de_avioes = len(avioes)\n",
        "\n",
        "estacionamentos = [Estacionamento(1, total_de_avioes, False, modelo),\n",
        "                   Estacionamento(2, total_de_avioes, False, modelo),\n",
        "                   Estacionamento(3, total_de_avioes, True, modelo),\n",
        "                   Estacionamento(4, total_de_avioes, True, modelo)]\n",
        "estacionamentos[2].vizinhos = [estacionamentos[0]]\n",
        "\n",
        "avioes_distintos(estacionamentos, modelo)\n",
        "todo_aviao_tem_que_estacionar(total_de_avioes, estacionamentos, modelo)\n",
        "limita_vizinhos(modelo, estacionamentos, avioes)\n",
        "limita_aviao_grande_para_estacionamento_grande(modelo, estacionamentos, avioes)\n",
        "\n",
        "solucionador = cp_model.CpSolver()\n",
        "resolve(solucionador, modelo, estacionamentos, avioes)"
      ]
    }
  ],
  "metadata": {
    "colab": {
      "provenance": []
    },
    "kernelspec": {
      "display_name": "Python 3",
      "name": "python3"
    },
    "language_info": {
      "codemirror_mode": {
        "name": "ipython",
        "version": 3
      },
      "file_extension": ".py",
      "mimetype": "text/x-python",
      "name": "python",
      "nbconvert_exporter": "python",
      "pygments_lexer": "ipython3",
      "version": "3.12.3"
    }
  },
  "nbformat": 4,
  "nbformat_minor": 0
}
